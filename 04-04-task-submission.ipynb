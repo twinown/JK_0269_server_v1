{
 "cells": [
  {
   "cell_type": "markdown",
   "id": "f7d263c5-ffe0-4de3-9d18-848c4d38a91c",
   "metadata": {},
   "source": [
    "# Неделя 1. Среда\n",
    "## Проверка статистических гипотез"
   ]
  },
  {
   "cell_type": "code",
   "execution_count": 1,
   "id": "737b1dd5-d353-4e15-80e2-b3dcc978de94",
   "metadata": {
    "tags": []
   },
   "outputs": [],
   "source": [
    "import numpy as np\n",
    "from scipy import stats as st\n",
    "import matplotlib.pyplot as plt\n",
    "import warnings\n",
    "warnings.filterwarnings('ignore')"
   ]
  },
  {
   "cell_type": "markdown",
   "id": "bee8fb28-1377-4ce2-9558-5bc318212a6b",
   "metadata": {},
   "source": [
    "### Задание № 1\n",
    "\n",
    "Реализовать функцию, позволяющую проверять гипотезу о доле (см. слайды). На вход функция принимает два значения для долей, объем выборки и уровень значимости. "
   ]
  },
  {
   "cell_type": "markdown",
   "id": "5af900e5-81c2-473b-b348-89af40320ddd",
   "metadata": {},
   "source": [
    "$H_0: p = p_0$  \n",
    "$H_1: p \\neq p_0$"
   ]
  },
  {
   "cell_type": "code",
   "execution_count": 4,
   "id": "356eb8d3-d79a-49b6-bda8-cc726f0b0960",
   "metadata": {
    "tags": []
   },
   "outputs": [],
   "source": [
    "def proportion_test(p_hat, p_0, n, alpha):\n",
    "    z_stat = (p_hat - p_0) / np.sqrt(p_0 * (1 - p_0) / n)\n",
    "    p_value = 2 * (1 - st.norm(0, 1).cdf(abs(z_stat))) # Домножаем на 2, так как проверка двусторонняя\n",
    "    return z_stat, p_value"
   ]
  },
  {
   "cell_type": "markdown",
   "id": "a92a4f48-8fff-49ca-b7fd-e18d8432c50d",
   "metadata": {},
   "source": [
    "#### Проверка"
   ]
  },
  {
   "cell_type": "code",
   "execution_count": 9,
   "id": "7698ab98-9e17-43c6-a2e7-f1cbc27b4059",
   "metadata": {
    "tags": []
   },
   "outputs": [
    {
     "data": {
      "text/plain": [
       "(3.162277660168382, 0.0015654022580025018)"
      ]
     },
     "execution_count": 9,
     "metadata": {},
     "output_type": "execute_result"
    }
   ],
   "source": [
    "p_hat = 0.55\n",
    "p_0 = 0.5\n",
    "alpha = .05\n",
    "n = 1000\n",
    "\n",
    "proportion_test(p_hat, p_0, n, alpha)"
   ]
  },
  {
   "cell_type": "markdown",
   "id": "8ea66233-d479-4a83-b52d-4a2e14e32f83",
   "metadata": {},
   "source": [
    "### Задание № 2 \n",
    "Реализовать функцию, позволяющую вычислять двухвыборочный t-тест. \n",
    "Функция должна принимать следующие аргументы: \n",
    "* `sample_1`, `sample_2` - два списка выборочными данными\n",
    "* `alternative` принимает одно из трех значений: `twosided`, `left`, `right`. Аргумент позволяет контролировать вид проверяемой альтернативы. \n",
    "* `alpha` - уровень значимости\n",
    "* `independent` - `True` или `False`\n",
    "\n",
    "Функция должна распечатывать результат проверки аналогично примеру выше, а также возвращать значение статистики и `p_value`. "
   ]
  },
  {
   "cell_type": "code",
   "execution_count": 2,
   "id": "d7a065f5-f0f1-4598-b7f6-9cfd7eb16da1",
   "metadata": {
    "tags": []
   },
   "outputs": [],
   "source": [
    "def ttest(sample_1, sample_2, alternative='twosided', alpha=.05, independent=True):\n",
    "    \n",
    "    sample_1 = np.array(sample_1)\n",
    "    sample_2 = np.array(sample_2)\n",
    "    \n",
    "    n1 = len(sample_1)\n",
    "    n2 = len(sample_2)\n",
    "    \n",
    "    if independent:\n",
    "        sample_1_se = sample_1.var() / n1\n",
    "        sample_2_se = sample_2.var() / n2\n",
    "    \n",
    "        t_stat = (sample_1.mean() - sample_2.mean()) / np.sqrt(sample_1_se + sample_2_se)\n",
    "        \n",
    "        if alternative == 'twosided':\n",
    "            p_value = 2 * st.t(n1 + n2 - 2).cdf(-abs(t_stat))\n",
    "            if p_value > alpha:\n",
    "                print(f'Гипотезу H0 принять, на уровне значимости {alpha}')\n",
    "            else:\n",
    "                print(f'Гипотезу H0 отклонить, на уровне значимости {alpha}')\n",
    "        elif alternative == 'greater':\n",
    "            p_value = 1 - st.t(n1 + n2 - 2).cdf(t_stat)\n",
    "            if p_value > alpha:\n",
    "                print(f'Гипотезу H0 принять, на уровне значимости {alpha}')\n",
    "            else:\n",
    "                print(f'Гипотезу H0 отклонить, на уровне значимости {alpha}')\n",
    "        elif alternative == 'less':\n",
    "            p_value = st.t(n1 + n2 - 2).cdf(t_stat)\n",
    "            if p_value > alpha:\n",
    "                print(f'Гипотезу H0 принять, на уровне значимости {alpha}')\n",
    "            else:\n",
    "                print(f'Гипотезу H0 отклонить, на уровне значимости {alpha}')\n",
    "        else:\n",
    "            raise ValueError(\"Для аргумента alternative только три режимма - two-sided, less, greater\")\n",
    "                \n",
    "                \n",
    "    else:\n",
    "        if n1 != n2:\n",
    "            raise ValueError(f\"Для зависимых выборок их размер должен быть одинаков, получено - {n1}, {n2}!\")\n",
    "        diff_mean = (sample_1 - sample_2).mean()\n",
    "        diff_std = (sample_1 - sample_2).std(ddof=1)\n",
    "        \n",
    "        t_stat = diff_mean / (diff_std / np.sqrt(n1))\n",
    "        \n",
    "        if alternative == 'twosided':\n",
    "            p_value = 2 * st.t(n1 - 1).cdf(-abs(t_stat))\n",
    "            if p_value > alpha:\n",
    "                print(f'Гипотезу H0 принять, на уровне значимости {alpha}')\n",
    "            else:\n",
    "                print(f'Гипотезу H0 отклонить, на уровне значимости {alpha}')\n",
    "        elif alternative == 'greater':\n",
    "            p_value = 1 - st.t(n1 - 1).cdf(t_stat)\n",
    "            if p_value > alpha:\n",
    "                print(f'Гипотезу H0 принять, на уровне значимости {alpha}')\n",
    "            else:\n",
    "                print(f'Гипотезу H0 отклонить, на уровне значимости {alpha}')\n",
    "        elif alternative == 'less':\n",
    "            p_value = st.t(n1 - 1).cdf(t_stat)\n",
    "            if p_value > alpha:\n",
    "                print(f'Гипотезу H0 принять, на уровне значимости {alpha}')\n",
    "            else:\n",
    "                print(f'Гипотезу H0 отклонить, на уровне значимости {alpha}')\n",
    "        else:\n",
    "            raise ValueError(\"Для аргумента alternative только три режимма - two-sided, less, greater\")\n",
    "    \n",
    "    return t_stat, p_value"
   ]
  },
  {
   "cell_type": "markdown",
   "id": "9fe87310-36ea-4438-bf4b-87a8a837ea9c",
   "metadata": {},
   "source": [
    "☑️ Проверьте свой результат с помощью scipy-функций `ttest_ind` (для случай независимых выборок) и `ttest_rel`(для случая зависимых выборок)."
   ]
  },
  {
   "cell_type": "markdown",
   "id": "499209e4-c02c-4f0a-b01f-fea1515c9e71",
   "metadata": {},
   "source": [
    "#### Проверка"
   ]
  },
  {
   "cell_type": "code",
   "execution_count": 18,
   "id": "461d4c8d-5021-4352-84ca-fd45136d7a7b",
   "metadata": {
    "tags": []
   },
   "outputs": [
    {
     "name": "stdout",
     "output_type": "stream",
     "text": [
      "Для независимых выборок:\n",
      "\n",
      "Мой результат:\n",
      "Гипотезу H0 принять, на уровне значимости 0.05\n"
     ]
    },
    {
     "data": {
      "text/plain": [
       "(-0.3102377066399286, 0.6217804635378692)"
      ]
     },
     "metadata": {},
     "output_type": "display_data"
    },
    {
     "name": "stdout",
     "output_type": "stream",
     "text": [
      "Результат scipy:\n"
     ]
    },
    {
     "data": {
      "text/plain": [
       "TtestResult(statistic=-0.30995554404708986, pvalue=0.6216732099927252, df=1098.0)"
      ]
     },
     "metadata": {},
     "output_type": "display_data"
    },
    {
     "name": "stdout",
     "output_type": "stream",
     "text": [
      "--------------------------------------------------\n",
      "Для зависимых выборок:\n",
      "\n",
      "Мой результат:\n",
      "Гипотезу H0 принять, на уровне значимости 0.05\n"
     ]
    },
    {
     "data": {
      "text/plain": [
       "(-0.3009425781929701, 0.3817861101630505)"
      ]
     },
     "metadata": {},
     "output_type": "display_data"
    },
    {
     "name": "stdout",
     "output_type": "stream",
     "text": [
      "Результат scipy:\n"
     ]
    },
    {
     "data": {
      "text/plain": [
       "TtestResult(statistic=-0.30094257819297016, pvalue=0.38178611016305036, df=549)"
      ]
     },
     "metadata": {},
     "output_type": "display_data"
    }
   ],
   "source": [
    "sample_1 = np.random.exponential(size=550)\n",
    "sample_2 = np.random.exponential(size=550)\n",
    "\n",
    "print(\"Для независимых выборок:\", end='\\n\\n')\n",
    "print(\"Мой результат:\")\n",
    "display(ttest(sample_1, sample_2, alternative='greater', independent=True))\n",
    "\n",
    "print(\"Результат scipy:\")\n",
    "display(st.ttest_ind(sample_1, sample_2, alternative='greater'))\n",
    "\n",
    "print('-' * 50)\n",
    "\n",
    "\n",
    "print(\"Для зависимых выборок:\", end='\\n\\n')\n",
    "print(\"Мой результат:\")\n",
    "display(ttest(sample_1, sample_2, alternative='less', independent=False))\n",
    "\n",
    "print(\"Результат scipy:\")\n",
    "display(st.ttest_rel(sample_1, sample_2, alternative='less'))"
   ]
  },
  {
   "cell_type": "markdown",
   "id": "009f659c-a581-4860-97bf-3c87424afd42",
   "metadata": {},
   "source": [
    "<img src=\"https://icons.iconarchive.com/icons/icons8/windows-8/256/Programming-Github-icon.png\" width=32 /> Пора сохранить изменения для __github__. \n",
    "\n",
    "1. Перейди в командной строке в папку, в которой расположен этот нотбук. \n",
    "2. Выполни команду `git add 01-05-task.ipynb`\n",
    "3. Выполни команду `git commit -m \"hypothesis tasks in progress\"`\n",
    "4. Выполни команду `git push`"
   ]
  },
  {
   "cell_type": "markdown",
   "id": "ef4aea2b-ce29-4be7-881b-4685e9fa53f9",
   "metadata": {},
   "source": [
    "### Задание № 3\n",
    "\n",
    "Реализовать функцию, позволяющую строить доверительный интервал для среднего. На вход функции поступает выборка (n > 30), уровень значимости. "
   ]
  },
  {
   "cell_type": "code",
   "execution_count": 23,
   "id": "835e7829-9302-49a7-bf8e-191bad5b5415",
   "metadata": {
    "tags": []
   },
   "outputs": [],
   "source": [
    "def conf_ints(sample: list, alpha: float):\n",
    "    standard_error = np.sqrt(sample.var(ddof=1) / len(sample))\n",
    "    delta =  standard_error * st.t(len(sample)-1).ppf(1 - (1 - alpha) / 2)\n",
    "    lower_bound, upper_bound = sample.mean() - delta, sample.mean() + delta\n",
    "    return lower_bound, upper_bound"
   ]
  },
  {
   "cell_type": "code",
   "execution_count": 24,
   "id": "bfe543f7-350c-4089-b851-2d9b5a1cb8f7",
   "metadata": {
    "tags": []
   },
   "outputs": [],
   "source": [
    "sample = np.random.normal(100, 20, size=10)"
   ]
  },
  {
   "cell_type": "code",
   "execution_count": 28,
   "id": "125d3644-9311-487e-9370-cb8825106dff",
   "metadata": {
    "tags": []
   },
   "outputs": [
    {
     "name": "stdout",
     "output_type": "stream",
     "text": [
      "наше решение:\n"
     ]
    },
    {
     "data": {
      "text/plain": [
       "(96.13050904803036, 108.41373907362897)"
      ]
     },
     "metadata": {},
     "output_type": "display_data"
    },
    {
     "name": "stdout",
     "output_type": "stream",
     "text": [
      "Из коробки:\n"
     ]
    },
    {
     "data": {
      "text/plain": [
       "(96.13050904803038, 108.41373907362897)"
      ]
     },
     "metadata": {},
     "output_type": "display_data"
    }
   ],
   "source": [
    "print('наше решение:')\n",
    "display(conf_ints(sample, alpha=0.60))\n",
    "print('Из коробки:')\n",
    "display(st.t.interval(loc = sample.mean(), scale=st.sem(sample), confidence=0.6, df=len(sample)-1))"
   ]
  },
  {
   "cell_type": "markdown",
   "id": "59c919f2-56e3-4e3d-8b2f-6ab1507fe4a0",
   "metadata": {},
   "source": [
    "### Задание № 4"
   ]
  },
  {
   "cell_type": "markdown",
   "id": "d66ecccc-3f39-486f-8a29-dfb39985d9d3",
   "metadata": {},
   "source": [
    "Ожидается, что добавление специальных веществ уменьшит жесткость воды. По оценке жесткости воды до и после добавления специальных веществ по $40$ и $50$ пробам соответственно получим средние значения жесткости (в стандартных единицах), равные $4.0$ и $0.8$. Дисперсия измерений в обоих случаях предполагается равной $0.25$. Подтверждают ли эти результаты ожидаемый эффект? Принять $\\alpha=0.05$. Контролируемая величина имеет нормальное распределение."
   ]
  },
  {
   "cell_type": "markdown",
   "id": "64f547d4-036e-45ac-8166-2eb6a4167297",
   "metadata": {},
   "source": [
    "$H_0: mean_1 = mean_2$  \n",
    "$H_1: mean_1 > mean_2$"
   ]
  },
  {
   "cell_type": "code",
   "execution_count": 31,
   "id": "8f71feee-f0fe-4ee7-b76c-e72975754fa2",
   "metadata": {
    "tags": []
   },
   "outputs": [
    {
     "name": "stdout",
     "output_type": "stream",
     "text": [
      "Значение статистики - -30.16988933062603\n",
      "P-value - 1.7308077794634634e-48\n",
      "Жесткость воды уменьшилась на уровне значимости 0.05\n"
     ]
    }
   ],
   "source": [
    "n1 = 40\n",
    "n2 = 50\n",
    "mean1 = 4\n",
    "mean2 = 0.8\n",
    "sigma1 = 0.25\n",
    "sigma2 = 0.25\n",
    "alpha = 0.05\n",
    "\n",
    "z_stat  = (mean2 - mean1) / (np.sqrt(sigma1/n1 + sigma2/n2))\n",
    "p_value = st.t(50 + 40 - 2).cdf(z_stat)\n",
    "\n",
    "print(f'Значение статистики - {z_stat}')\n",
    "print(f'P-value - {p_value}')\n",
    "if p_value > alpha:\n",
    "    print(f\"Жесткость воды не изменилась на уровне значимости {alpha}\")\n",
    "else:\n",
    "    print(f\"Жесткость воды уменьшилась на уровне значимости {alpha}\")"
   ]
  },
  {
   "cell_type": "code",
   "execution_count": null,
   "id": "113544ff-80c7-4e95-a8af-de9789f788e1",
   "metadata": {},
   "outputs": [],
   "source": []
  },
  {
   "cell_type": "markdown",
   "id": "22d37018-99f8-48ca-baf5-8c3d1793dbe3",
   "metadata": {},
   "source": [
    "### Задание № 5"
   ]
  },
  {
   "cell_type": "markdown",
   "id": "85e11a19-b745-4f14-9940-5d98ae8e2a63",
   "metadata": {},
   "source": [
    "Производительность каждого из агрегатов $А$ и $В$ составила (в кг вещества за час работы):\n",
    "\n",
    "\n",
    "|Номер замера| 1 | 2 | 3 | 4 | 5 |\n",
    "|------------|---|---|---|---|---|\n",
    "|Агрегат А   | 14.1 | 13.1 | 14.7 | 13.7 | 14.0 |\n",
    "|Агрегат В   |14.0 | 14.5 | 13.7 |  12.7 | 14.1 | \n",
    "\n",
    "Можно ли считать производительность агрегатов А и В одинаковой в предложении, что обе выборки получены из нормально распределенных генеральных совокупностей, при уровне значимости $a = 0.1$?  \n",
    "‼️**УКАЗАНИЕ**: задача решается в два этапа: на первом этапе проверяется гипотеза о равенстве дисперсий случайных величин $А$ и $В$ (производительности рассматриваемых агрегатов $А$ и $В$) с помощью [критерия Фишера](https://ru.wikipedia.org/wiki/F-%D1%82%D0%B5%D1%81%D1%82), на втором этапе проверяется гипотеза о равенстве математических ожиданий тех же случайных величин $А$ и $В$ с помощью [одного из вариантов критерия Стьюдента](https://ru.wikipedia.org/wiki/T-%D0%BA%D1%80%D0%B8%D1%82%D0%B5%D1%80%D0%B8%D0%B9_%D0%A1%D1%82%D1%8C%D1%8E%D0%B4%D0%B5%D0%BD%D1%82%D0%B0) в зависимости от результата критерия Фишера."
   ]
  },
  {
   "cell_type": "code",
   "execution_count": 38,
   "id": "7211f01f-5f78-4847-afc2-944670b28181",
   "metadata": {
    "tags": []
   },
   "outputs": [
    {
     "name": "stdout",
     "output_type": "stream",
     "text": [
      "P-value для дисперсий 0.6095528524662563\n",
      "Значение статистики для дисперсий 0.7434782608695646\n",
      "Границы интервала 0.15653781167539585 6.388232908695868\n",
      "Гипотезу H0 о равенстве дисперсий двух агрегаторов принять\n"
     ]
    }
   ],
   "source": [
    "alpha = 0.1\n",
    "\n",
    "sampleA = np.array([14.1, 13.1, 14.7, 13.7, 14.0])\n",
    "sampleB = np.array([14.0, 14.5, 13.7, 12.7, 14.1])\n",
    "\n",
    "sampleA_var = sampleA.var(ddof=1)\n",
    "sampleB_var = sampleB.var(ddof=1)\n",
    "\n",
    "f_stat = sampleA_var/sampleB_var\n",
    "\n",
    "fisher_distr = st.f(dfn=len(sampleA) - 1, dfd=len(sampleB) - 1)\n",
    "\n",
    "# Гипотеза двусторонняя, а распределение не симметричное, поэтому левый и правый край считаем отдельно\n",
    "f_crit_lower = fisher_distr.ppf(alpha/2)\n",
    "f_crit_upper = fisher_distr.ppf(1 - alpha/2)\n",
    "\n",
    "p_value = 1 - fisher_distr.cdf(f_stat)\n",
    "\n",
    "print(f'P-value для дисперсий {p_value}')\n",
    "print(f'Значение статистики для дисперсий {f_stat}')\n",
    "print(f'Границы интервала {f_crit_lower} {f_crit_upper}')\n",
    "\n",
    "if f_stat < f_crit_lower or f_stat > f_crit_upper:\n",
    "    print('Гипотезу H0 о равенстве дисперсий двух агрегаторов отклонить')\n",
    "else:\n",
    "    print('Гипотезу H0 о равенстве дисперсий двух агрегаторов принять')"
   ]
  },
  {
   "cell_type": "code",
   "execution_count": 37,
   "id": "f35fb8cb-cea3-4bfc-8857-e03fa4850768",
   "metadata": {
    "tags": []
   },
   "outputs": [
    {
     "data": {
      "text/plain": [
       "<matplotlib.lines.Line2D at 0x139857d60>"
      ]
     },
     "execution_count": 37,
     "metadata": {},
     "output_type": "execute_result"
    },
    {
     "data": {
      "image/png": "[encoded data removed]",
      "text/plain": [
       "<Figure size 640x480 with 1 Axes>"
      ]
     },
     "metadata": {},
     "output_type": "display_data"
    }
   ],
   "source": [
    "fisher_distr = st.f(dfn=len(sampleA) - 1, dfd=len(sampleB) - 1)\n",
    "\n",
    "\n",
    "x = np.linspace(0, 10, 1000)\n",
    "plt.plot(x, fisher_distr.pdf(x))\n",
    "plt.axvline(f_stat, color='y')"
   ]
  },
  {
   "cell_type": "code",
   "execution_count": 33,
   "id": "cb0b5f5b-5a1e-4dff-bd1f-51c612ecf780",
   "metadata": {
    "tags": []
   },
   "outputs": [
    {
     "data": {
      "text/plain": [
       "0.7434782608695646"
      ]
     },
     "execution_count": 33,
     "metadata": {},
     "output_type": "execute_result"
    }
   ],
   "source": [
    "f_stat"
   ]
  },
  {
   "cell_type": "code",
   "execution_count": 39,
   "id": "8e11fd5b-3555-4fc7-8900-7bf250af7b26",
   "metadata": {
    "tags": []
   },
   "outputs": [
    {
     "name": "stdout",
     "output_type": "stream",
     "text": [
      "P-value для средних 0.7720997680308299\n",
      "Значение статистики для средних 0.7434782608695646\n",
      "Гипотезу H0 о равенстве средних двух агрегаторов принять\n"
     ]
    }
   ],
   "source": [
    "t_stat, p_value = st.ttest_ind(sampleA, sampleB, alternative='two-sided')\n",
    "\n",
    "print(f'P-value для средних {p_value}')\n",
    "print(f'Значение статистики для средних {f_stat}')\n",
    "\n",
    "if p_value < alpha:\n",
    "    print('Гипотезу H0 о равенстве средних двух агрегаторов отклонить')\n",
    "else:\n",
    "    print('Гипотезу H0 о равенстве средних двух агрегаторов принять')"
   ]
  },
  {
   "cell_type": "markdown",
   "id": "186bbfbd-2904-46d5-a99d-9ddabc7355db",
   "metadata": {},
   "source": [
    "❓Как вычисляются степени свободы для распределения Фишера?"
   ]
  },
  {
   "cell_type": "markdown",
   "id": "769d1d6a-2919-4c72-a851-2baba9442076",
   "metadata": {},
   "source": [
    "_Берутся на одну меньше, чем элементов в выборке_"
   ]
  },
  {
   "cell_type": "markdown",
   "id": "4caac3a4-46df-4247-a9ee-176d2c1eae15",
   "metadata": {},
   "source": [
    "### Задание № 6"
   ]
  },
  {
   "cell_type": "markdown",
   "id": "32001569-4a33-40ee-8a2d-c8dd21d6b10b",
   "metadata": {},
   "source": [
    "Допустим, вы думаете, что $25\\%$ студентов вашего университета ни разу не пропустили ни одной лекции. В выборочном опросе из $75$ случайных студентов таких оказалось $15$ человек. Проверьте свою гипотезу на уровне значимости $\\alpha = 0.02$ против двусторонних альтернатив. В ответ запишите достигаемый уровень значимости с точностью до четвертого знака."
   ]
  },
  {
   "cell_type": "markdown",
   "id": "c0979e11-b8b7-4a1e-85f6-f154e28928d9",
   "metadata": {},
   "source": [
    "❓Каким критерием можно проверить эту гипотезу и почему?"
   ]
  },
  {
   "cell_type": "markdown",
   "id": "493187c8-28c8-4ab8-8249-09107189f09b",
   "metadata": {},
   "source": [
    "> ответ тут"
   ]
  },
  {
   "cell_type": "code",
   "execution_count": 174,
   "id": "7e3cd8f0-8533-410b-baa3-4137e6c7d36a",
   "metadata": {},
   "outputs": [
    {
     "data": {
      "text/plain": [
       "(-0.9999999999999998, 0.31731050786291415)"
      ]
     },
     "execution_count": 174,
     "metadata": {},
     "output_type": "execute_result"
    }
   ],
   "source": [
    "def proportion_test(p_hat, p_0, n, alpha):\n",
    "    z_stat = (p_hat - p_0) / np.sqrt(p_0 * (1 - p_0) / n)\n",
    "    p_value = 2 * (1 - st.norm(0, 1).cdf(abs(z_stat))) # Домножаем на 2, так как проверка двусторонняя\n",
    "    return z_stat, p_value\n",
    "\n",
    "p_hat = 15/75\n",
    "p_0 = 0.25\n",
    "alpha = 0.02\n",
    "n = 75\n",
    "\n",
    "proportion_test(p_hat, p_0, n, alpha)"
   ]
  },
  {
   "cell_type": "markdown",
   "id": "30113a95-c51f-4e4b-a655-e1655d24090f",
   "metadata": {},
   "source": [
    "_Оснований отклонить гипотезу о 25% нет_"
   ]
  },
  {
   "cell_type": "markdown",
   "id": "744c5662-d9f2-45d6-9a01-c1ef5986d89f",
   "metadata": {},
   "source": [
    "### Задание № 7"
   ]
  },
  {
   "cell_type": "markdown",
   "id": "8c048d05-689e-42e2-8c8c-fda6881f5630",
   "metadata": {},
   "source": [
    "Допустим мы предполагаем, что стандартное отклонение в стобалльном рейтинге студентов равно $15$. И решаем проверить это, оценив рейтинг знакомых. Получилась выборка объема $n = 20$, у\n",
    "которой выборочная дисперсия равна $196$. Уровень значимости возьмём $\\alpha = 0.1$, а альтернативы рассмотрим двусторонние. Используй для этого соответствующий критерий из `scipy`. "
   ]
  },
  {
   "cell_type": "code",
   "execution_count": 178,
   "id": "7b8dea82-f6ca-47ee-a619-9328c3e4ce70",
   "metadata": {},
   "outputs": [
    {
     "name": "stdout",
     "output_type": "stream",
     "text": [
      "P-value для дисперсий 0.7594999756470793\n",
      "Значение статистики для дисперсий 16.551111111111112\n",
      "Границы интервала 10.117013063859044 30.14352720564616\n",
      "Гипотезу H0  принять\n"
     ]
    }
   ],
   "source": [
    "s_2 = 196\n",
    "sigma_2 = 225\n",
    "alpha = 0.1\n",
    "n = 20\n",
    "\n",
    "chi_sq_stat = (n-1) * s_2 / sigma_2\n",
    "chi_sq_crit_lower = st.chi2(n-1).ppf(alpha/2)\n",
    "chi_sq_crit_upper = st.chi2(n-1).ppf(1 - alpha/2)\n",
    "\n",
    "p_value = 2 * st.chi2(n-1).cdf(chi_sq_stat)\n",
    "\n",
    "\n",
    "print(f'P-value для дисперсий {p_value}')\n",
    "print(f'Значение статистики для дисперсий {chi_sq_stat}')\n",
    "print(f'Границы интервала {chi_sq_crit_lower} {chi_sq_crit_upper}')\n",
    "\n",
    "if chi_sq_stat < chi_sq_crit_lower or chi_sq_stat > chi_sq_crit_upper:\n",
    "    print('Гипотезу H0  отклонить')\n",
    "else:\n",
    "    print('Гипотезу H0  принять')"
   ]
  },
  {
   "cell_type": "markdown",
   "id": "60382d8b-b11a-4342-a533-344dee53955a",
   "metadata": {},
   "source": [
    "### Задание № 8"
   ]
  },
  {
   "cell_type": "markdown",
   "id": "41c8efc4-c407-464f-a061-35faeb10887a",
   "metadata": {},
   "source": [
    "Пусть для выборки объема $n = 25$ вычислено среднее  $\\bar{x} = 130$. Из предыдущих исследований известно стандартное отклонение $\\sigma = 12$. Постройте $98\\%$ доверительный интервал для среднего значения."
   ]
  },
  {
   "cell_type": "code",
   "execution_count": 43,
   "id": "cb56c8ba-603f-4084-b051-d66b0828335e",
   "metadata": {
    "tags": []
   },
   "outputs": [
    {
     "data": {
      "text/plain": [
       "(124.41676510230198, 135.58323489769802)"
      ]
     },
     "execution_count": 43,
     "metadata": {},
     "output_type": "execute_result"
    }
   ],
   "source": [
    "n = 25\n",
    "mean = 130\n",
    "sigma = 12\n",
    "alpha = 0.98\n",
    "\n",
    "st.norm.interval(loc = mean, scale = sigma/ np.sqrt(n), confidence=0.98)"
   ]
  },
  {
   "cell_type": "markdown",
   "id": "26a7ec2a-e1f4-40ba-8002-16066717d435",
   "metadata": {},
   "source": [
    "### Задание № 9\n",
    "\n",
    "Реализуй класс, позволяющий проводить проверку гипотезу о средних для двух выборок. \n",
    "1. В конструктор класса передаются две выборки\n",
    "2. В методе `compute_stat` вычисляется `t` или `z` статистика (соответственно, дисперсия либо вычисляется, либо передается как параметр)\n",
    "3. В методе `test` проводится тестирование, метод возвращает значение статистики, p_value и результат проверки\n",
    "4. Выбирается альтернатива: двухсторонняя, правая или левая\n",
    "5. Уровень значимости по умолчанию равен $0.05$ (может быть переназначен пользователем)\n",
    "6. Добавь метод, позволяющий вычислять доверительные интервалы для средних для обеих выборок"
   ]
  },
  {
   "cell_type": "code",
   "execution_count": null,
   "id": "20c3d898-8e9d-4690-af48-624f769e12bf",
   "metadata": {},
   "outputs": [],
   "source": [
    "class StatTester():\n",
    "    def __init__(self, sample1, sample2):\n",
    "        self.sample1 = sample1\n",
    "        self.sample2 = sample2\n",
    "        # код\n",
    "        \n",
    "    def compute_stat(self, var=None):\n",
    "        # код\n",
    "        \n",
    "    def test(self, ...):\n",
    "        # код\n",
    "        return\n",
    "    \n",
    "    def compute_conf_ints(self, ...):\n",
    "        # код\n",
    "        \n",
    "        "
   ]
  },
  {
   "cell_type": "markdown",
   "id": "44a91674-8a96-4108-b246-5d1f14e9e07e",
   "metadata": {},
   "source": [
    "<img src=\"https://icons.iconarchive.com/icons/icons8/windows-8/256/Programming-Github-icon.png\" width=32 /> Сохрани файл для __github__. \n",
    "\n",
    "1. Перейди в командной строке в папку, в которой расположен этот нотбук. \n",
    "2. Выполни команду `git add .`\n",
    "3. Выполни команду `git commit -m \"hypothesis tasks completed\"`\n",
    "4. Выполни команду `git push`"
   ]
  }
 ],
 "metadata": {
  "kernelspec": {
   "display_name": "Python 3 (ipykernel)",
   "language": "python",
   "name": "python3"
  },
  "language_info": {
   "codemirror_mode": {
    "name": "ipython",
    "version": 3
   },
   "file_extension": ".py",
   "mimetype": "text/x-python",
   "name": "python",
   "nbconvert_exporter": "python",
   "pygments_lexer": "ipython3",
   "version": "3.12.0"
  },
  "vscode": {
   "interpreter": {
    "hash": "73ec0c878552fcb71893c22b7af2c9be9210ef33785c90eb804f443984ec4506"
   }
  }
 },
 "nbformat": 4,
 "nbformat_minor": 5
}
